{
 "cells": [
  {
   "cell_type": "markdown",
   "metadata": {
    "tags": []
   },
   "source": [
    "# 0 导入包环境\n",
    "### python 环境 -- Python 3.8.1 ('py38': conda)"
   ]
  },
  {
   "cell_type": "code",
   "execution_count": 13,
   "metadata": {},
   "outputs": [
    {
     "name": "stdout",
     "output_type": "stream",
     "text": [
      "test local history extension2021-06-09\n"
     ]
    }
   ],
   "source": [
    "# from matplotlib.font_manager import FontManager\n",
    "# fm = FontManager()\n",
    "# mat_fonts = set(f.name for f in fm.ttflist)\n",
    "# print(mat_fonts)\n",
    "print('test local history extension2021-06-09')\n"
   ]
  },
  {
   "cell_type": "code",
   "execution_count": 2,
   "metadata": {
    "tags": []
   },
   "outputs": [],
   "source": [
    "import math\n",
    "import numpy as np\n",
    "from scipy.stats import ncx2, chi2\n",
    "import matplotlib.pyplot as plt\n",
    "from pylab import *\n",
    "# from sympy import *\n",
    "from scipy import integrate\n",
    "plt.rcParams['font.sans-serif'] = ['Arial Unicode MS'] # matplotlib 画图显示中文"
   ]
  },
  {
   "cell_type": "markdown",
   "metadata": {},
   "source": [
    "# 1 设置参数"
   ]
  },
  {
   "cell_type": "code",
   "execution_count": 3,
   "metadata": {
    "tags": []
   },
   "outputs": [],
   "source": [
    "# 传输信噪比\n",
    "pb = 10 # 传输功率，42dBm (30dBm=1w, +3dBm 功率*2) （基站的发射功率在数十瓦量级）\n",
    "M_b = N_b = 2 # 均匀矩形阵列（URAS）参数 基站 默认2\n",
    "M_i = N_i = 8 # 均匀矩形阵列（URAS）参数 IRS 默认8\n",
    "# list_ni = [4, 5, 6, 7, 8, 9, 10, 11, 12] # 作变量时的取值\n",
    "K_2 = K_3 = 1 # 默认取值为1，LOS和non-LOS比例相同，K取值越大，LOS所占比例越大\n",
    "\n",
    "A_1 = 2 # 路径损失系数（该系数越大，信号损失越大）BS-to-IRS\n",
    "A_2 = 2.5 # 路径损失系数（该系数越大，信号损失越大 IRS-to-\n",
    "A_3 = 2.5\n",
    "A_4 = 2 # 路径损失系数（该系数越大，信号损失越大）user-to-user\n",
    "\n",
    "L_b = [0, 0, 20] # 基站、IRS、用户的位置 单位m，(使用 m，是因为参考论文中使用的m，并给出了响应的计算公式)\n",
    "L_i = [100, 0, 20] # 基站、IRS、用户的位置 单位m，\n",
    "L_dt = [100, 20, 1] # 基站、IRS、用户的位置 单位m，\n",
    "L_dr = [100, 30, 1] # 基站、IRS、用户的位置 单位m，\n",
    "\n",
    "ratio = 0.3333  # URAs 元件之间距离和波长之间的比值 （小于等于1 / 2），用于计算URAs的响应，最优相移不涉及该参数，随机相移的计算会用到\n",
    "\n",
    "# 离开角、到达角\n",
    "AoA_h_1 = AoA_v_1 = math.pi / 6\n",
    "AoD_h_1 = AoD_v_1 = math.pi / 4\n",
    "AoD_h_2 = AoD_v_2 = math.pi / 3\n",
    "AoD_h_3 = AoD_v_3 = math.pi / 8\n",
    "\n",
    "# 能量捕获过程\n",
    "E_ec = 0.5 # RF-to-DC 的转化效率，（0.3-0.8)  参考论文默认是0.3\n",
    "# 后向散射过程\n",
    "P_ec = 0.625 # 进行能量转换的功率占总功率的比例(0~1) power of energy conversion 0.625\n",
    "CU_b = 8.9e-6 # circuit threshold of backscatter  后向散射模式的最低电路门限 单位：w。8.9e-6\n",
    "eff_b = 0.5 # 后向散射天线系数\n",
    "# eff_b = 1 # 后向散射天线系数，默认取值是0 还是 0.5？\n",
    "# 主动传输过程\n",
    "T_eh = 0.5 # time of energy harvestHTT模式中，能量捕获的时间占比，在该时间内全部的功率都用来进行能量转换\n",
    "CU_a = 113e-6 # circuit threshold of active transmission(HTT) 主动传输模式的最低电路门限 单位：w， 113e-6\n",
    "R_b = 2.057 # 后向散射覆盖中断概率 单位 bit/s/Hz，对应SNR门限5dB, 参考论文中只要高于阈值，就以预设的速率接收，预设速率是 1 kbps\n",
    "R_a = 7.213e-05 # 主动传输中断概率 单位 bit/s/Hz， 对应信噪比门限-40dB\n",
    "# 噪声\n",
    "p_n = 9.99e-12 # 噪声功率 10pw = 10e-12w 单位:w (=-80dBm)【参考论文给的 -120 dBm/Hz 10e16W】   \n",
    "B = 1e6 # 单位：Hz ，考虑单位带宽的情况，就不需要此项"
   ]
  },
  {
   "cell_type": "markdown",
   "metadata": {},
   "source": [
    "## URAs每个elements的响应函数--随机相移计算需要"
   ]
  },
  {
   "cell_type": "code",
   "execution_count": 4,
   "metadata": {},
   "outputs": [],
   "source": [
    "#  URA中每个elements的响应函数： Input：水平角、垂直角、element所在行、所在列、element间隔与信号波长的比值\n",
    "def URAresponse(a1, a2, m, n, r):\n",
    "    return 2 * math.pi * r * math.sin(a2) * ((m-1) * math.cos(a1) + (n-1) * math.sin(a1))\n"
   ]
  },
  {
   "cell_type": "markdown",
   "metadata": {},
   "source": [
    "## 大尺度信道增益计算"
   ]
  },
  {
   "cell_type": "code",
   "execution_count": 5,
   "metadata": {
    "tags": []
   },
   "outputs": [
    {
     "name": "stdout",
     "output_type": "stream",
     "text": [
      "0.0001 0.00013307796214264556 0.0002501895575215323 0.01\n",
      "0.01 0.008157142947829392 0.008157142947829392 0.011184577719376183 0.011184577719376183 0.1\n",
      "\n",
      " 6.65389810713228e-09 \n",
      " 3.9505567130035447e-10 \n",
      " 3.9505567130035447e-10 \n",
      " 2.3455271017643652e-11\n"
     ]
    }
   ],
   "source": [
    "# 信道增益：来自参考论文，1/(1000 * (d ^ a) ) 计算结果随着距离的增加而减少， 输入参数分别为：路径损耗指数、位置1、位置2\n",
    "\n",
    "def pathgain(a, d1, d2):\n",
    "    return pow(np.sqrt(np.square(d1[0] - d2[0]) + np.square(d1[1] - d2[1]) + np.square(d1[2] - d2[2])), -a) \n",
    "\n",
    "PL_1 = pathgain(A_1, L_b, L_i)\n",
    "PL_2 = pathgain(A_2, L_i, L_dr)\n",
    "PL_3 = pathgain(A_3, L_i, L_dt)\n",
    "PL_4 = pathgain(A_4, L_dt, L_dr)\n",
    "print(PL_1, PL_2, PL_3, PL_4)\n",
    "\n",
    "c11 = sqrt(PL_1)\n",
    "c21 = sqrt(PL_2 * K_2 / (K_2 + 1))\n",
    "c22 = sqrt(PL_2 * 1 / (K_2 + 1))\n",
    "c31 = sqrt(PL_3 * K_3 / (K_3 + 1))\n",
    "c32 = sqrt(PL_3 * 1 / (K_3 + 1))\n",
    "c41 = sqrt(PL_4)\n",
    "print(c11, c21, c22, c31, c32, c41)\n",
    "\n",
    "b1 = sqrt(eff_b*(1-P_ec))\n",
    "\n",
    "xi_1= c22 * c21 * pow(c11, 2)\n",
    "xi_2= b1 * c41 * c31 * c22 * pow(c11, 2)\n",
    "xi_3= b1 * c41 * c32 * c21 * pow(c11, 2)\n",
    "xi_4= pow(b1, 2) * pow(c41, 2) * c32 * c31 * pow(c11, 2)\n",
    "print('\\n', xi_1, '\\n', xi_2, '\\n', xi_3, '\\n', xi_4)\n"
   ]
  },
  {
   "cell_type": "markdown",
   "metadata": {},
   "source": [
    "## 最优相移情况下，输入参数计算"
   ]
  },
  {
   "cell_type": "code",
   "execution_count": 6,
   "metadata": {
    "tags": []
   },
   "outputs": [
    {
     "name": "stdout",
     "output_type": "stream",
     "text": [
      "re_b31, square_b2131 = (-3.4306276658199457, 11.336575398672608, 140.2871479512782) 561.1485918051128\n",
      "re_b21, square_b3121 = (-3.4306276658199457, 11.336575398672608, 140.2871479512782) 561.1485918051128\n",
      "pl_b31, pnl_b31 = 4.1154061353540525e-06 1.638471795706557e-06\n",
      "pl_b21, pnl_b21 = 0.0002266961836783491 5.2427730879191944e-05\n",
      "pl_h31, pnl_h31 = 0.00020495528552163928 3.2024263362756138e-06\n",
      "pl_h21, pnl_h21 = 0.00010901746658725525 1.7033979154258632e-06\n"
     ]
    }
   ],
   "source": [
    "\n",
    "def opt_phase(M, N, h1, v1, h2, v2):\n",
    "    # print('start:', ratio)\n",
    "    sum_x = 0\n",
    "    sum_y = 0\n",
    "    for m in range(M):\n",
    "       for n in range(N):\n",
    "           phase_1 = URAresponse(h1, v1, m+1, n+1, ratio) - URAresponse(h2, v2, m+1, n+1, ratio) # 一个行向量 * 一个列向量 对应位置元素的乘积\n",
    "           sum_x = sum_x + math.cos(phase_1) # 实部\n",
    "           sum_y = sum_y + math.sin(phase_1) # 虚部\n",
    "    # print('end:', ratio)\n",
    "    return sum_x, sum_y, pow(sum_x, 2) + pow(sum_y, 2) # 返回值1:实部，返回值2:模的平方，替代最优相移的 M_i * N_i * M_i * N_i=4096\n",
    "# 31最优  中间变量表达式：一个实部Re{h2h3}，一个平方||h2øh1||^2\n",
    "re_b31 = opt_phase(M_i, N_i, AoD_h_2, AoD_v_2, AoD_h_3, AoD_v_3) # 取re_b31[0]\n",
    "square_b2131 = M_b * N_b * re_b31[2] ##计算时，应该时 3-2，但是由于取平方，所以2-3的结果是一样的\n",
    "print('re_b31, square_b2131 =', re_b31, square_b2131)\n",
    "# 21最优  一个实部，一个平方\n",
    "re_b21 = opt_phase(M_i, N_i, AoD_h_2, AoD_v_2, AoD_h_3, AoD_v_3) # 取re_b31[0]\n",
    "temp = opt_phase(M_i, N_i, AoD_h_3, AoD_v_3, AoD_h_2, AoD_v_2) # 取re_b31[0]\n",
    "square_b3121 = M_b * N_b * temp[2]\n",
    "print('re_b21, square_b3121 =', re_b21, square_b3121)\n",
    "\n",
    "# B-mode 31最优\n",
    "pl_b31 = pow(c21 * c11, 2) * square_b2131 + 2 * b1 * c41 * c31 * c21 * pow(c11, 2) * re_b31[0] + pow(b1, 2) * pow(c41, 2) * pow(c31, 2) * pow(c11, 2) * (M_b * N_b * M_i * N_i * M_i * N_i)\n",
    "\n",
    "x1_square31 = pow(xi_1, 2) * M_b * N_b * M_i * N_i * square_b2131 + 2 * xi_1 * xi_2 * M_b * N_b * M_i * N_i * M_i * N_i * re_b31[0] + pow(xi_2, 2) * M_b * N_b * M_i * N_i * M_b * N_b * M_i * N_i * M_i * N_i\n",
    "x2_square31 = pow(xi_3, 2) * M_b * N_b * M_i * N_i * square_b2131 + 2 * xi_3 * xi_4 * M_b * N_b * M_i * N_i * M_i * N_i * re_b31[0] + pow(xi_4, 2) * M_b * N_b * M_i * N_i * M_b * N_b * M_i * N_i * M_i * N_i\n",
    "\n",
    "pnl_b31 = (x1_square31 + x2_square31) / pl_b31\n",
    "print('pl_b31, pnl_b31 =', pl_b31, pnl_b31) \n",
    "########## \n",
    "########## \n",
    "# 异常值 pl偏大，pnl偏小\n",
    "# 可能是pl的表达式有问题，特别是h4处理，检查一遍 2021-06-11 20:12\n",
    "\n",
    "# B-mode 21最优\n",
    "pl_b21 = pow(c21 * c11, 2) * (M_b * N_b * M_i * N_i * M_i * N_i) + 2 * b1 * c31 * pow(c21 * c11, 2) * re_b31[0] + b1 * b1 * c31 * c11 * c11 * square_b3121\n",
    "\n",
    "x1_square21 = pow(xi_1, 2) * M_b * N_b * M_i * N_i * M_i * N_i * M_b * N_b * M_i * N_i * M_i * N_i + 2 * xi_1 * xi_2 * M_b * N_b * M_i * N_i * M_i * N_i * re_b31[0] + xi_2 * xi_2 * M_b * N_b * square_b3121\n",
    "x2_square21 = pow(xi_3, 2) * M_b * N_b * M_i * N_i * M_b * N_b * M_i * N_i * M_i * N_i + 2 * xi_3 * xi_4 * M_b * N_b * M_i * N_i * M_i * N_i * re_b31[0] + xi_4 * xi_4 * M_b * N_b * M_i * N_i * square_b3121\n",
    "\n",
    "pnl_b21 = (x1_square21 + x2_square21) / pl_b21\n",
    "print('pl_b21, pnl_b21 =', pl_b21, pnl_b21)\n",
    "# H-mode\n",
    "pl_h31 = pow(c31, 2) * pow(c11, 2) * M_b * N_b * M_i * N_i * M_i * N_i\n",
    "pnl_h31 = pow(c31, 2) * pow(c11, 2) * M_b * N_b * M_i * N_i\n",
    "print('pl_h31, pnl_h31 =', pl_h31, pnl_h31)\n",
    "pl_h21 = pow(c21 * c11, 2) * M_b * N_b * M_i * N_i * M_i * N_i\n",
    "pnl_h21 = pow(c21 * c11, 2) * M_b * N_b * M_i * N_i\n",
    "print('pl_h21, pnl_h21 =', pl_h21, pnl_h21)\n",
    "\n",
    "###### P_l, P_nl =  0.00045794672179195697 7.155417527999328e-06"
   ]
  },
  {
   "cell_type": "markdown",
   "metadata": {},
   "source": [
    "## 随机相移响应计算"
   ]
  },
  {
   "cell_type": "code",
   "execution_count": 7,
   "metadata": {
    "tags": []
   },
   "outputs": [],
   "source": [
    "# Random phase shifts 随机相移， INPUT：URA行数、URA列数、水平角1、垂直角1、水平角2、垂直角2；\n",
    "# OUTPUT：多个复数和的模方\n",
    "# 最优相移相移是一个实数，（即一个复数的模方），随机相移的响应也是如此\n",
    "def random_phase(M, N, h1, v1, h2, v2):\n",
    "    sum_x = 0\n",
    "    sum_y = 0\n",
    "    np.random.seed(3)\n",
    "    for m in range(M):\n",
    "       for n in range(N):\n",
    "           phase_0 = np.random.uniform(0, 2*math.pi) #随机相移\n",
    "           phase_1 = URAresponse(h1, v1, m+1, n+1, ratio) - URAresponse(h2, v2, m+1, n+1, ratio) + phase_0\n",
    "           # phase_1 = 0 相移后的相位相同时，和取到最值 4096\n",
    "           sum_x = sum_x + math.cos(phase_1) # 实部\n",
    "           sum_y = sum_y + math.sin(phase_1) # 虚部\n",
    "    # print(pow(sum_x, 2) + pow(sum_y, 2))\n",
    "    return pow(sum_x, 2) + pow(sum_y, 2) # 模的平方，替代最优相移的 M_i * N_i * M_i * N_i\n"
   ]
  },
  {
   "cell_type": "markdown",
   "metadata": {},
   "source": [
    "## 随机相移情况下，输入参数计算"
   ]
  },
  {
   "cell_type": "code",
   "execution_count": 8,
   "metadata": {
    "tags": []
   },
   "outputs": [
    {
     "name": "stdout",
     "output_type": "stream",
     "text": [
      "153.2121810376035 120.36506854371032\n",
      "pl_b_ran, pnl_b_ran = 3.215251562078125e-06 1.6186137644007696e-06\n",
      "pl_h31_ran, pnl_h31_ran = 7.666417556141384e-06 3.2024263362756134e-06\n",
      "pl_h21_ran, pnl_h21_ran = 3.2035876069913642e-06 1.7033979154258632e-06\n"
     ]
    }
   ],
   "source": [
    "# B-mode 一种情况\n",
    "temp21 = random_phase(M_i, N_i, AoD_h_2, AoD_v_2, AoA_h_1, AoA_v_1)\n",
    "temp31 = random_phase(M_i, N_i, AoD_h_3, AoD_v_3, AoA_h_1, AoA_v_1)\n",
    "print(temp31, temp21)\n",
    "#### 120.36506854371032\n",
    "\n",
    "pl_b_ran = pow(c21 * c11, 2) * (M_b * N_b * temp21) + 2 * b1 * c41 * c31 * c21 * pow(c11, 2) * re_b31[0] + pow(b1, 2)* pow(c41, 2) * pow(c31, 2) * pow(c11, 2) * (M_b * N_b * temp31)\n",
    "\n",
    "x1_square31_ran = pow(xi_1, 2) * M_b * N_b * M_i * N_i * (M_b * N_b * temp21) + 2 * xi_1 * xi_2 * M_b * N_b * M_i * N_i * M_i * N_i * re_b31[0] + xi_2 * xi_2 * M_b * N_b * M_i * N_i * (M_b * N_b * temp31)\n",
    "x2_square31_ran = pow(xi_3, 2) * M_b * N_b * M_i * N_i * (M_b * N_b * temp21) + 2 * xi_3 * xi_4 * M_b * N_b * M_i * N_i * M_i * N_i * re_b31[0] + xi_4 * xi_4 * M_b * N_b * M_i * N_i * (M_b * N_b * temp31)\n",
    "\n",
    "pnl_b_ran = (x1_square31_ran + x2_square31_ran) / pl_b_ran\n",
    "print('pl_b_ran, pnl_b_ran =',pl_b_ran, pnl_b_ran)  \n",
    "############################################\n",
    "############################################\n",
    "# 数量级相差太多，pl_ran 偏大，pnl_ran偏小，表达式中，pnl受pl影响，随pl增大而减小\n",
    "\n",
    "# H-mode 分情况\n",
    "# 31 \n",
    "pl_h31_ran = pow(c31 * c11, 2) * M_b * N_b * temp31\n",
    "pnl_h31_ran = pow(c31 * c11, 2) * M_b * N_b * M_i * N_i\n",
    "print('pl_h31_ran, pnl_h31_ran =',pl_h31_ran, pnl_h31_ran)\n",
    "# 21\n",
    "pl_h21_ran = pow(c21 * c11, 2) * M_b * N_b * temp21\n",
    "pnl_h21_ran = pow(c21 * c11, 2) * M_b * N_b * M_i * N_i\n",
    "print('pl_h21_ran, pnl_h21_ran =',pl_h21_ran, pnl_h21_ran)\n",
    "\n",
    "##### P_l_random, P_nl_random= 1.3457223769007896e-05 7.155417527999328e-06"
   ]
  },
  {
   "cell_type": "markdown",
   "metadata": {},
   "source": [
    "## 非中心卡方分布输入参数计算\n",
    "### 自由度(degrees of freedom) 非中心参数(non-centrality parameter) 阈值(threshold)"
   ]
  },
  {
   "cell_type": "code",
   "execution_count": 9,
   "metadata": {
    "tags": []
   },
   "outputs": [
    {
     "name": "stdout",
     "output_type": "stream",
     "text": [
      "nc_b31, nc_b31_ran = 5.02346899853637 3.9728459411296924\n",
      "nc_b21, nc_b21_ran = 8.647949467838693 3.9728459411296924\n",
      "nc_h31, nc_h31_ran = 128.0 4.787880657425109\n",
      "nc_h21, nc_h21_ran = 128.0 3.7614083919909476\n"
     ]
    }
   ],
   "source": [
    "df = 2 # 都是2\n",
    "def NC(pl, pn): #非中心参数\n",
    "    return 2 * pl / pn\n",
    "\n",
    "# B-mode 31最优\n",
    "nc_b31 = NC(pl_b31, pnl_b31)\n",
    "nc_b31_ran = NC(pl_b_ran, pnl_b_ran)\n",
    "print('nc_b31, nc_b31_ran =', nc_b31, nc_b31_ran )\n",
    "\n",
    "# B-mode 21最优\n",
    "nc_b21 = NC(pl_b21, pnl_b21)\n",
    "nc_b21_ran = NC(pl_b_ran, pnl_b_ran)\n",
    "print('nc_b21, nc_b21_ran =', nc_b21, nc_b21_ran )\n",
    "\n",
    "# H-mode 31\n",
    "nc_h31 = NC(pl_h31, pnl_h31)\n",
    "nc_h31_ran = NC(pl_h31_ran, pnl_h31_ran)\n",
    "print('nc_h31, nc_h31_ran =', nc_h31, nc_h31_ran )\n",
    "\n",
    "# H-mode 21\n",
    "nc_h21 = NC(pl_h21, pnl_h21)\n",
    "nc_h21_ran = NC(pl_h21_ran, pnl_h21_ran)\n",
    "print('nc_h21, nc_h21_ran =', nc_h21, nc_h21_ran )\n",
    "\n",
    "########### nc, nc_random = 128.0 3.7614083919909476\n",
    "\n",
    "# print(r_mode, c_b, c_h31, c_h21)\n"
   ]
  },
  {
   "cell_type": "code",
   "execution_count": 10,
   "metadata": {},
   "outputs": [
    {
     "name": "stderr",
     "output_type": "stream",
     "text": [
      "findfont: Font family ['sans-serif'] not found. Falling back to DejaVu Sans.\n"
     ]
    },
    {
     "name": "stdout",
     "output_type": "stream",
     "text": [
      "0.0 inf\n"
     ]
    },
    {
     "data": {
      "image/png": "[encoded data removed]",
      "text/plain": [
       "<Figure size 432x288 with 1 Axes>"
      ]
     },
     "metadata": {
      "needs_background": "light"
     },
     "output_type": "display_data"
    }
   ],
   "source": [
    "######## 画一下，给定 非中心参数 NC 的概率分布值\n",
    "########   NC 越大，其每个取值点的概率密度越小\n",
    "# nc_test = nc_b31\n",
    "nc_test = nc_b21\n",
    "nc_test = nc_h31\n",
    "# nc_test = nc_h21\n",
    "fig, ax = plt.subplots(1, 1)\n",
    "x = np.linspace(ncx2.ppf(0.01, df, nc_test), ncx2.ppf(0.99, df, nc_test), 100)\n",
    "ax.plot(x, ncx2.pdf(x, df, nc_test), 'r-', lw=5, alpha=0.6, label='ncx2 pdf')\n",
    "# ax.semilogy(x, ncx2.pdf(x, df, nc_test), 'r-', lw=5, alpha=0.6, label='ncx2 pdf')\n",
    "# ax.plot(x, ncx2.cdf(x, df, nc_test, loc=0, scale=1), 'b-', lw=5, alpha=0.6, label='ncx2 cdf - optimal phase shift')\n",
    "plt.xlabel('threshold')\n",
    "plt.ylabel('probability')\n",
    "ax.legend(loc='best', frameon=False)\n",
    "print(ncx2.ppf(0, df, nc_b31), ncx2.ppf(1, df, nc_b31))\n",
    "\n",
    "# fig, ax = plt.subplots(1, 1)\n",
    "# x = np.linspace(ncx2.ppf(0.01, df, nc_b31_ran), ncx2.ppf(0.99, df, nc_b31_ran), 100)\n",
    "# ax.plot(x, ncx2.pdf(x, df, nc_b31_ran), 'r-', lw=5, alpha=0.6, label='ncx2 pdf')\n",
    "# # ax.plot(x, ncx2.cdf(x, df, nc_b31_ran, loc=0, scale=1), 'b-', lw=5, alpha=0.6, label='ncx2 cdf - random phase shift')\n",
    "# plt.xlabel('threshold')\n",
    "# plt.ylabel('probability')\n",
    "# ax.legend(loc='best', frameon=False)"
   ]
  },
  {
   "cell_type": "markdown",
   "metadata": {},
   "source": [
    "## 覆盖概率 VS 基站发射功率 "
   ]
  },
  {
   "cell_type": "code",
   "execution_count": 11,
   "metadata": {
    "tags": []
   },
   "outputs": [
    {
     "name": "stdout",
     "output_type": "stream",
     "text": [
      "r_mode_threshold_array = \n",
      " [28228596.229049936, 564.5606333683314, 282.28313945910475, 188.1893869310867, 141.1422754338725, 112.91393326046669, 94.09500711347609, 80.65290164613796, 70.57131414433948, 62.73007444216777]\n",
      "prob_mode_array = \n",
      " [1.0000000000000042, 1.0000000000000042, 0.9999999750287362, 0.9909701188400494, 0.6996682121584149, 0.23169692446888968, 0.04833606473384534, 0.00859567070012266, 0.001517223097514993, 0.0002843488884092397]\n",
      "prob_mode_random_array = \n",
      " [0.9999999999999979, 0.9999999999999979, 0.9999999999999979, 0.9999999999999979, 0.9999999999999979, 0.9999999999999979, 0.9999999999999359, 0.9999999999886805, 0.9999999994810912, 0.9999999903973713]\n",
      "c_prob_pure_b_array = \n",
      " [0.7008376624136878, 0.9999968726234986, 0.9999984363188923, 0.9999989575475157, 0.999999218161232, 0.9999993745292713, 0.9999994787745515, 0.9999995532354271, 0.9999996090810626, 0.9999996525165441]\n",
      "c_prob_pure_a_array = \n",
      " [-4.218847493575595e-15, -4.218847493575595e-15, 2.4971263612449945e-08, 0.009029881122940786, 0.3003317873840582, 0.7683030751723301, 0.9516639351582925, 0.991404329276646, 0.9984827768978944, 0.9997156511106668]\n",
      "c_prob_random_array = \n",
      " [0.611248304806955, 0.9999946468241268, 0.9999973234110519, 0.9999982156071427, 0.9999986617052724, 0.9999989293641771, 0.9999991078033962, 0.9999992352487755, 0.9999993303336657, 0.999999395599659]\n",
      "c_prob_array = \n",
      " [0.7008376624136908, 0.9999968726235028, 0.9999984113476682, 0.9910506245542158, 0.7898668477813949, 0.8219863951441566, 0.9540002851234736, 0.9914782109913896, 0.9984850782707179, 0.9997157318661509]\n",
      "c_prob_r_array = \n",
      " [1.0, 1.0, 1.0, 1.0, 1.0, 1.0, 1.0, 1.0, 1.0, 1.0]\n"
     ]
    },
    {
     "data": {
      "text/plain": [
       "<matplotlib.legend.Legend at 0x1f5a1408670>"
      ]
     },
     "execution_count": 11,
     "metadata": {},
     "output_type": "execute_result"
    },
    {
     "name": "stderr",
     "output_type": "stream",
     "text": [
      "findfont: Font family ['sans-serif'] not found. Falling back to DejaVu Sans.\n"
     ]
    },
    {
     "data": {
      "image/png": "[encoded data removed]",
      "text/plain": [
       "<Figure size 432x288 with 1 Axes>"
      ]
     },
     "metadata": {
      "needs_background": "light"
     },
     "output_type": "display_data"
    }
   ],
   "source": [
    "# 数组存储覆盖概率\n",
    "c_prob_array = []\n",
    "c_prob_random_array = []\n",
    "c_prob_pure_a_array = []\n",
    "c_prob_pure_b_array = []\n",
    "c_prob_r_array = []\n",
    "# 数组存储吞吐量\n",
    "v_overall_array = []\n",
    "v_overall_random_array = []\n",
    "v_b_pure_array = []\n",
    "v_a_pure_array = []\n",
    "v_r_array = []\n",
    "# 数组存储基站发射功率\n",
    "pb_array = []\n",
    "\n",
    "# 接收速率阈值\n",
    "R_b = 2.057\n",
    "R_a = 7.213e-05\n",
    "\n",
    "CU_b = 8.9e-6 \n",
    "CU_a = 113e-6 \n",
    "\n",
    "\n",
    "# 数组存储选择 backscatter 模式的概率\n",
    "prob_mode_array = []\n",
    "prob_mode_random_array = []\n",
    "\n",
    "# 初始功率\n",
    "# pb = 0.05\n",
    "pb = 0.00001\n",
    "# 阈值threshold计算函数，输入参数：临界条件r，参数P_nl，输出：阈值\n",
    "def threshold(r, pnl):\n",
    "    return 2 * r / pnl\n",
    "r_mode_threshold_array = []\n",
    "c_b31_threshold_array = []\n",
    "c_h31_threshold_array = []\n",
    "c_h21_threshold_array = []\n",
    "\n",
    "for i in range(10):\n",
    "    # 计算临界条件\n",
    "    r_mode = CU_a / (T_eh * E_ec * pb) # 模式选择\n",
    "    c_b = ((pow(2, R_b) - 1) * p_n) / pb # 后向散射覆盖阈值\n",
    "    c_h31 = ((pow(2, R_a) - 1) * (1 - T_eh) * p_n + CU_a * PL_4 ) / (T_eh * E_ec * pb * PL_4) # HTT覆盖阈值\n",
    "    c_h21 = ((pow(2, R_a) - 1) * p_n) / pb # 没有DT 覆盖阈值\n",
    "    # 计算阈值，并放在一个数组里\n",
    "    r_mode_threshold_array.append(threshold(r_mode, pnl_h31))\n",
    "    c_b31_threshold_array.append(threshold(c_b, pnl_b31))\n",
    "    c_h31_threshold_array.append(threshold(c_h31, pnl_h31))\n",
    "    c_h21_threshold_array.append(threshold(c_h21, pnl_h21))\n",
    "    \n",
    "    # print('r_mode_threshold:', threshold(r_mode, pnl_h31))\n",
    "    # print('c_b_threshold_31:', threshold(c_b, pnl_b31))\n",
    "    # print('c_b_threshold_21:', threshold(c_b, pnl_b21))\n",
    "    # print('c_h31_threshold:', threshold(c_h31, pnl_h31))\n",
    "    # print('c_h21_threshold:', threshold(c_h21, pnl_h21))\n",
    "  \n",
    "    # backscatter 模式覆盖概率 \n",
    "    c_b_prob = 1 - ncx2.cdf(threshold(c_b, pnl_b31), df, nc_b31 , loc=0, scale=1) # 最优相移中断概率\n",
    "    c_b_prob_random = 1 - ncx2.cdf(threshold(c_b, pnl_b_ran), df, nc_b31_ran, loc=0, scale=1) \n",
    "\n",
    "    # HTT 模式覆盖概率\n",
    "    c_a_prob = 1 - ncx2.cdf(threshold(c_h31, pnl_h31), df, nc_h31, loc=0, scale=1) # 最优相移中断概率\n",
    "    c_a_prob_random = 1 - ncx2.cdf(threshold(c_h31, pnl_h31_ran), df, nc_h31_ran, loc=0, scale=1) \n",
    "    # 没有 DT 的覆盖概率，直接到接收端 r\n",
    "    c_r_prob = 1 - ncx2.cdf(threshold(c_h21, pnl_h21), df, nc_h21, loc=0, scale=1)\n",
    "\n",
    "    # backscatter 模式选择概率\n",
    "    prob_mode = ncx2.cdf(threshold(r_mode, pnl_h31), df, nc_h31 , loc=0, scale=1)\n",
    "    prob_mode_random = ncx2.cdf(threshold(r_mode, pnl_h31_ran), df, nc_h31_ran , loc=0, scale=1) ## 按照随机参数计算选择概率时，选B-mode的概率几乎一直为1，所以这里选择概率 是不是 按照 最优的 概率来选\n",
    "    # prob_mode_random = prob_mode ## 选择概率 按照 最优的 概率来选, 出现的问题：随机相移下 HTT的覆盖概率几乎一直为0，导致后面下降，所以不能改\n",
    "    prob_mode_array.append(prob_mode) # 模式选择概率存储在数组中\n",
    "    prob_mode_random_array.append(prob_mode_random)\n",
    "    # 最优\n",
    "    c_prob = prob_mode *  c_b_prob + (1 - prob_mode) * c_a_prob    # 覆盖概率\n",
    "    c_prob_array.append(c_prob)\n",
    "\n",
    "    if prob_mode > 1: # 防止概率超过1，导致后面的计算出现负值\n",
    "        prob_mode =1\n",
    "    # 随机\n",
    "    c_prob_random = prob_mode_random * c_b_prob_random + (1 - prob_mode_random) *  c_a_prob_random\n",
    "    c_prob_random_array.append(c_prob_random)\n",
    "    # print(\"xm, xcb, xca = \", x_m, x_c_b, x_c_a)\n",
    "    # print(\"mode, c_b, c_a, c, mode_radom = \", prob_mode, c_b_prob, c_a_prob, c_prob, prob_mode_random)\n",
    "    # 纯后向散射 和 纯HHT 模式下的 覆盖概率\n",
    "    c_prob_pure_a = c_a_prob\n",
    "    c_prob_pure_a_array.append(c_prob_pure_a)\n",
    "\n",
    "    c_prob_pure_b = c_b_prob\n",
    "    c_prob_pure_b_array.append(c_prob_pure_b)\n",
    "    \n",
    "    # 没有DT的覆盖概率\n",
    "    c_prob_r_array.append(c_r_prob)\n",
    "\n",
    "\n",
    "    pb_array.append(pb)    # 基站发射功率\n",
    "    # pb = pb + 0.001\n",
    "    pb = pb + 0.5\n",
    "\n",
    "print('r_mode_threshold_array = \\n', r_mode_threshold_array)\n",
    "print('prob_mode_array = \\n', prob_mode_array)\n",
    "print('prob_mode_random_array = \\n', prob_mode_random_array)\n",
    "plt.cla() #清空旧图\n",
    "figure(1) \n",
    "# figure(1, dpi=300)\n",
    "# plt.title('Coverage probability versus Transmit Power')\n",
    "plt.plot(pb_array, c_prob_pure_b_array, color='#00CC00', linestyle='-', marker='+', markerfacecolor='none', markeredgewidth=1, lw=2, alpha=0.9, label='Pure backscatter')\n",
    "plt.plot(pb_array, c_prob_pure_a_array, color='#123EAB',linestyle='-', marker='v', markerfacecolor='none', markeredgewidth=1, lw=2, alpha=0.9, label='Pure HTT')\n",
    "# plt.plot(pb_array, c_prob_random_array, 'r-', marker='s', markerfacecolor='none', markeredgewidth=1, lw=2, alpha=0.9, label='Random Phase Shift')\n",
    "plt.plot(pb_array, c_prob_r_array, color='#FFAB00',linestyle='-', marker='o', markerfacecolor='none', markeredgewidth=1, lw=2, alpha=0.9, label='Without DT')\n",
    "plt.plot(pb_array, c_prob_array, color='#FF0000', linestyle='-', marker='o', markerfacecolor='none', markeredgewidth=1, lw=2, alpha=0.9, label='The proposed')\n",
    "\n",
    "print('c_prob_pure_b_array = \\n', c_prob_pure_b_array)\n",
    "print('c_prob_pure_a_array = \\n', c_prob_pure_a_array)\n",
    "print('c_prob_random_array = \\n', c_prob_random_array)\n",
    "print('c_prob_array = \\n', c_prob_array)\n",
    "print('c_prob_r_array = \\n', c_prob_r_array)\n",
    "\n",
    "plt.grid(True)\n",
    "# plt.xlim(0.03, 0.12)\n",
    "# plt.ylim(0, 1)\n",
    "plt.tick_params(axis='both',which='major',labelsize=12)\n",
    "plt.xlabel('Transmit Power', fontsize=12)\n",
    "plt.ylabel('Coverage Probability', fontsize=12) \n",
    "plt.legend(loc='center right', bbox_to_anchor=(1, 0.3), fancybox=True, shadow=False, frameon=True, fontsize=12)\n",
    "\n",
    "# figure(2) \n",
    "# figure(1, dpi=300)\n",
    "\n",
    "# semilogy(pb_array, c_prob_pure_b_array, 'g-', marker='+', markerfacecolor='none', markeredgewidth=1, lw=2, alpha=0.9, label='Pure Backscatter')\n",
    "# semilogy(pb_array, c_prob_pure_a_array, 'y-', marker='v', markerfacecolor='none', markeredgewidth=1, lw=2, alpha=0.9, label='Pure HTT')\n",
    "# semilogy(pb_array, c_prob_random_array, 'r-', marker='s', markerfacecolor='none', markeredgewidth=1, lw=2, alpha=0.9, label='Random Phase Shift')\n",
    "# semilogy(pb_array, c_prob_array, 'b-', marker='o', markerfacecolor='none', markeredgewidth=1, lw=2, alpha=0.9, label='Optimal Phase Shift')\n",
    "\n",
    "# plt.grid(True)\n",
    "# plt.xlim(1, 8)\n",
    "# plt.ylim(0.1, 1.02)\n",
    "# plt.tick_params(axis='both',which='major',labelsize=12)\n",
    "# plt.xlabel('Transmit Power', fontsize=12)\n",
    "# plt.ylabel('Coverage Probability', fontsize=12) \n",
    "# plt.legend(loc='center right', bbox_to_anchor=(1, 0.3), fancybox=True, shadow=False, frameon=True, fontsize=12)\n",
    "\n",
    "\n"
   ]
  },
  {
   "cell_type": "markdown",
   "metadata": {},
   "source": [
    "# 吞吐量 VS 基站发射功率"
   ]
  },
  {
   "cell_type": "code",
   "execution_count": 12,
   "metadata": {},
   "outputs": [
    {
     "name": "stdout",
     "output_type": "stream",
     "text": [
      "r_mode_threshold_array = \n",
      " []\n",
      "prob_mode_array = \n",
      " [1.0000000000000042, 1.0000000000000042, 0.9999999999999523, 0.999966382213094, 0.9730792454396502, 0.6996682121584149, 0.30373369255615323, 0.09342701634193214, 0.024420003930513846, 0.006061604920517166, 0.001517223097514993, 0.00039490103890475937, 0.00010847013744581911, 3.163251415419067e-05, 9.806605236392734e-06, 3.2279110921273057e-06]\n",
      "prob_mode_random_array = \n",
      " [0.9999999999999979, 0.9999999999999979, 0.9999999999999979, 0.9999999999999979, 0.9999999999999979, 0.9999999999999979, 0.9999999999999979, 0.9999999999999938, 0.9999999999993847, 0.9999999999733458, 0.9999999994810912, 0.999999994327478, 0.9999999595819037, 0.9999997920642463, 0.9999991695687629, 0.9999972861723636]\n",
      "pb_array =  [1e-05, 0.40001000000000003, 0.8000100000000001, 1.2000100000000002, 1.6000100000000002, 2.00001, 2.40001, 2.80001, 3.20001, 3.6000099999999997, 4.00001, 4.40001, 4.80001, 5.200010000000001, 5.600010000000001, 6.000010000000001]\n",
      "v_b_pure_array =  [22.297090323183344, 37.58483771678387, 38.58481968343915, 39.16977617299577, 39.58481066668311, 39.90673695821259, 40.16977016180656, 40.39216172439971, 40.5848061582843, 40.75473065879256, 40.90673335149029, 41.04423654735594, 41.16976715620284, 41.28524414242223, 41.39215914816684, 41.49169464996881]\n",
      "v_a_pure_array =  [8.522645172646954e-05, 29.939336827555177, 30.94011834540922, 31.52534764086767, 31.940520474618943, 32.262530620468944, 32.525620175473605, 32.748052254517034, 32.940727245801895, 33.11067562866425, 33.26269750925068, 33.40021646462237, 33.52576025205769, 33.64124842479186, 33.74817304697596, 33.84771690554997]\n",
      "v_overall_random_array =  [21.995075547470638, 37.28282084665696, 38.28280281329372, 38.86775930284462, 39.28279379652916, 39.60472008805706, 39.867753291650025, 40.09014485424241, 40.28278928812179, 40.452713788430664, 40.60471647736509, 40.74221963383574, 40.867749977084216, 40.98322568278656, 41.09013593014131, 41.189657035183565]\n",
      "v_overall_array =  [22.297090323183436, 37.5848377167839, 38.58481968343879, 39.16951918422635, 39.37902060663446, 37.610938802168064, 34.847406077275586, 33.46221859487928, 33.127395682889876, 33.15701087024757, 33.274295216988754, 33.40323509609445, 33.52658939853722, 33.641490223594595, 33.74824800853008, 33.84774157963053]\n"
     ]
    },
    {
     "data": {
      "text/plain": [
       "<matplotlib.legend.Legend at 0x1f5a14c2850>"
      ]
     },
     "execution_count": 12,
     "metadata": {},
     "output_type": "execute_result"
    },
    {
     "data": {
      "image/png": "[encoded data removed]",
      "text/plain": [
       "<Figure size 432x288 with 1 Axes>"
      ]
     },
     "metadata": {
      "needs_background": "light"
     },
     "output_type": "display_data"
    }
   ],
   "source": [
    "# 传输信噪比\n",
    "pbsnr = 140 # 默认取值\n",
    "P_b_SNR = [100, 105, 110, 115, 120, 125, 130, 135, 140, 145, 150] # 作变量时的取值\n",
    "pb = 16 # 传输功率，42dBm (30dBm=1w, +3dBm 功率*2) （基站的发射功率在数十瓦量级）\n",
    "M_b = N_b = 2 # 均匀矩形阵列（URAS）参数 基站 默认2\n",
    "M_i = N_i = 8 # 均匀矩形阵列（URAS）参数 IRS 默认8\n",
    "list_ni = [4, 5, 6, 7, 8, 9, 10, 11, 12] # 作变量时的取值\n",
    "K_iu = 1 # 默认取值 # 莱斯信道参数\n",
    "list_kiu = [1, 2, 3, 4, 5, 6, 7, 8, 9, 10, 11, 12, 13, 14, 15] # 作变量时的取值\n",
    "A_bi = 2 # 路径损失系数（该系数越大，信号损失越大）BS-to-IRS\n",
    "A_iu = 2.5 # 路径损失系数（该系数越大，信号损失越大 IRS-to-user\n",
    "A_uu = 2 # 路径损失系数（该系数越大，信号损失越大）user-to-user\n",
    "L_b = [0, 0] # 基站、IRS、用户的位置 单位m，(使用 m，是因为参考论文中使用的m，并给出了响应的计算公式)\n",
    "L_i = [100, 0] # 基站、IRS、用户的位置 单位m，\n",
    "L_u1 = [100, 20] # 基站、IRS、用户的位置 单位m，\n",
    "L_u2 = [100, 30] # 基站、IRS、用户的位置 单位m，\n",
    "ratio = 0.3333  # URAs 元件之间距离和波长之间的比值 （小于等于1 / 2），用于计算URAs的响应，最优相移不涉及该参数，随机相移的计算会用到\n",
    "# 离开角、到达角\n",
    "AoA_h_bi = AoA_v_bi = math.pi / 6\n",
    "AoD_h_bi = AoD_v_bi = math.pi / 4\n",
    "AoD_h_iu = AoD_v_iu = math.pi / 3\n",
    "# 能量捕获过程\n",
    "E_ec = 0.5 # RF-to-DC 的转化效率，（0.3-0.8)  参考论文默认是0.3\n",
    "# 后向散射过程\n",
    "P_ec = 0.625 # 进行能量转换的功率占总功率的比例(0~1) power of energy conversion 0.625\n",
    "CU_b = 8.9e-6 # circuit threshold of backscatter  后向散射模式的最低电路门限 单位：w。8.9e-6\n",
    "eff_b = 1 # 后向散射天线系数\n",
    "R_b = 2.057 # outage rate of backscatter ， 后向散射中断概率 单位 bit/s/Hz，对应信载比门限5dB, 参考论文中只要高于阈值，就以预设的速率接收，预设速率是 1 kbps\n",
    "# 主动传输过程\n",
    "T_eh = 0.5 # time of energy harvestHTT模式中，能量捕获的时间占比，在该时间内全部的功率都用来进行能量转换\n",
    "CU_a = 113e-6 # circuit threshold of active transmission(HTT) 主动传输模式的最低电路门限 单位：w， 113e-6\n",
    "R_a = 7.213e-05 #4 outage rate of active transmission ， 主动传输中断概率 单位 bit/s/Hz， 对应信噪比门限-40dB\n",
    "# 噪声\n",
    "p_n = 9.99e-12 # power of noise 单位； w (=-80dBm)   \n",
    "B = 1e6 # bandwidth 单位： Hz ，考虑单位带宽的情况，就不需要此项\n",
    "##########################################################################################################################################################################################################################################################################################################\n",
    "# 数组存储覆盖概率\n",
    "c_prob_array = []\n",
    "c_prob_random_array = []\n",
    "c_prob_pure_a_array = []\n",
    "c_prob_pure_b_array = []\n",
    "# 数组存储吞吐量（4种方案：提出的最优方案、随机相移方案、纯后向散射、纯HTT）\n",
    "v_overall_array = [] \n",
    "v_overall_random_array = []\n",
    "v_b_pure_array = []\n",
    "v_a_pure_array = []\n",
    "v_r_array = []\n",
    "\n",
    "# 数组存储基站发射功率\n",
    "pb_array = []\n",
    "# 初始功率\n",
    "# pb = 0.02\n",
    "\n",
    "# 接收速率阈值\n",
    "# R_b = 20 # \n",
    "# R_a = 20\n",
    "R_b = 2.057\n",
    "R_a = 7.213e-05\n",
    "\n",
    "# 电路启动阈值\n",
    "CU_b = 8.9e-6 \n",
    "CU_a = 113e-6 \n",
    "# CU_b = 8.9e-4\n",
    "# CU_a = 113e-5\n",
    "\n",
    "# 初始功率\n",
    "# pb = 0.04\n",
    "pb = 0.00001\n",
    "\n",
    "r_mode_threshold_array = []\n",
    "c_b31_threshold_array = []\n",
    "c_h31_threshold_array = []\n",
    "c_h21_threshold_array = []\n",
    "# 数组存储选择 backscatter 模式的概率\n",
    "prob_mode_array = []\n",
    "prob_mode_random_array = []\n",
    "\n",
    "# pb = 8 # 在基站发射功率在 1 和 8 的情况下对比 后向散射天线效率的影响\n",
    "# eff_b = 0.1\n",
    "\n",
    "for i in range(16):\n",
    "\n",
    "    r_mode = CU_a / (T_eh * E_ec * pb)\n",
    "    c_b = ((pow(2, R_b) - 1) * p_n) / pb\n",
    "    c_h31 = ((pow(2, R_a) - 1) * (1 - T_eh) * p_n + CU_a * PL_4 ) / (T_eh * E_ec * pb * PL_4)\n",
    "    c_h21 = ((pow(2, R_a) - 1) * p_n) / pb\n",
    "\n",
    "    ### 吞吐量 backscatter\n",
    "    f = lambda x:log2(1 + pb * x / p_n) * ncx2.pdf(x, df, nc_b31 )# 平均吞吐量 最优相移 （使用积分计算）\n",
    "    v_b_temp_0 = integrate.quad(f, c_b, np.inf)\n",
    "    v_b =  v_b_temp_0[0]\n",
    "    ### 吞吐量 HTT  \n",
    "    g = lambda y:log2(1 + ((T_eh * E_ec * pb * y - CU_a) * PL_4) / ((1 - T_eh) * p_n)) * ncx2.pdf(y, df, nc_b31 )\n",
    "    v_a_temp_0 = integrate.quad(g, c_h31, np.inf)\n",
    "    v_a = v_a_temp_0[0]\n",
    "    ### 吞吐量 没有DT\n",
    "    h = lambda z:log2(1 + pb * z / p_n) * ncx2.pdf(z, df, nc_h21)\n",
    "    v_r_temp_0 = integrate.quad(h, c_h21, np.inf)\n",
    "    v_r = v_r_temp_0[0]\n",
    "    v_r_array.append(v_r)\n",
    "\n",
    "    # backscatter 模式选择概率\n",
    "    prob_mode = ncx2.cdf(threshold(r_mode, pnl_h31), df, nc_h31 , loc=0, scale=1)\n",
    "    prob_mode_random = ncx2.cdf(threshold(r_mode, pnl_h31_ran), df, nc_h31_ran , loc=0, scale=1) ## 按照随机参数计算选择概率时，选B-mode的概率几乎一直为1，所以这里选择概率 是不是 按照 最优的 概率来选\n",
    "    # prob_mode_random = prob_mode ## 选择概率 按照 最优的 概率来选, 出现的问题：随机相移下 HTT的覆盖概率几乎一直为0，导致后面下降，所以不能改\n",
    "    prob_mode_array.append(prob_mode) # 模式选择概率存储在数组中\n",
    "    prob_mode_random_array.append(prob_mode_random)\n",
    "\n",
    "    v_overall = prob_mode * v_b + (1 - prob_mode) * v_a\n",
    "    v_overall_array.append(v_overall)\n",
    "    \n",
    "\n",
    "\n",
    "\n",
    "    f_random = lambda x:log2(1 + 1 + pb * x / p_n) * ncx2.pdf(x, df, nc_b31_ran ) # 平均吞吐量 随机相移\n",
    "    v_b_temp_0_random = integrate.quad(f_random, c_b, np.inf)\n",
    "    v_b_random =  v_b_temp_0_random[0]\n",
    "\n",
    "    g_random = lambda y:log2(1 + ((T_eh * E_ec * pb * y - CU_a) * PL_4) / ((1 - T_eh) * p_n)) * ncx2.pdf(y, df, nc_b31_ran )\n",
    "    v_a_temp_0_random = integrate.quad(g_random, c_h31, np.inf)\n",
    "    v_a_random = v_a_temp_0_random[0]\n",
    "\n",
    "    v_overall_random = prob_mode_random * v_b_random + (1 - prob_mode_random) * v_a_random\n",
    "    v_overall_random_array.append(v_overall_random)\n",
    "    \n",
    "    v_b_pure = v_b # 平均吞吐量 单一模式\n",
    "    v_b_pure_array.append(v_b_pure)\n",
    "    v_a_pure = v_a\n",
    "    v_a_pure_array.append(v_a_pure)\n",
    "\n",
    "    # pb_array.append(eff_b)    # 基站发射功率\n",
    "    pb_array.append(pb)    # 基站发射功率\n",
    "    # eff_b = eff_b + 0.05\n",
    "    pb = pb + 0.4\n",
    "\n",
    "print('r_mode_threshold_array = \\n', r_mode_threshold_array)\n",
    "print('prob_mode_array = \\n', prob_mode_array)\n",
    "print('prob_mode_random_array = \\n', prob_mode_random_array)\n",
    "\n",
    "print('pb_array = ', pb_array)\n",
    "print('v_b_pure_array = ', v_b_pure_array)\n",
    "print('v_a_pure_array = ', v_a_pure_array)\n",
    "print('v_overall_random_array = ', v_overall_random_array)\n",
    "print('v_overall_array = ', v_overall_array)\n",
    "\n",
    "# figure(2, dpi=300)\n",
    "figure(2)\n",
    "# plt.title('Average Throughput versus Backscattering Efficiency')\n",
    "plt.plot(pb_array, v_b_pure_array, color='#00CC00', linestyle='-', marker='+', markerfacecolor='none', markeredgewidth=1, lw=2, alpha=0.9, label='Pure backscatter')\n",
    "plt.plot(pb_array, v_a_pure_array, color='#123EAB',linestyle='-', marker='v', markerfacecolor='none', markeredgewidth=1, lw=2, alpha=0.9, label='Pure HTT')\n",
    "# plt.plot(pb_array, v_overall_random_array, 'r-', marker='o', markerfacecolor='none', markeredgewidth=1, lw=2, alpha=0.9, label='Random Phase Shift')\n",
    "plt.plot(pb_array, v_r_array, color='#FFAB00',linestyle='-', marker='o', markerfacecolor='none', markeredgewidth=1, lw=2, alpha=0.9, label='Without DT')\n",
    "plt.plot(pb_array, v_overall_array, color='#FF0000',linestyle='-', marker='o', markerfacecolor='none', markeredgewidth=1, lw=2, alpha=0.9, label='The proposed')\n",
    "\n",
    "\n",
    "plt.grid(True)\n",
    "# plt.xlim(0.1, 0.85)\n",
    "# plt.ylim(2, 18) # 限定纵轴范围\n",
    "plt.tick_params(axis='both',which='major',labelsize=12)\n",
    "\n",
    "# plt.xlabel('Backscattering Efficiency',fontsize=12)\n",
    "plt.xlabel('Transmit Power',fontsize=12)\n",
    "plt.ylabel('Average Throughput (bit/s/Hz)', fontsize=12)\n",
    "plt.legend(loc='best', bbox_to_anchor=(0.5, 0.5),fancybox=True, shadow=False, frameon=True, fontsize=12)\n",
    "\n",
    "# figure(3)\n",
    "# plt.title('The Selection Probability of Backscatter Mode')\n",
    "# plt.plot(pb_array, prob_mode_array, 'b')\n",
    "# plt.plot(pb_array, prob_mode_random_array, 'r')"
   ]
  },
  {
   "cell_type": "markdown",
   "metadata": {},
   "source": []
  }
 ],
 "metadata": {
  "kernelspec": {
   "display_name": "PyCharm (Dive-into-DL-PyTorch-master)",
   "language": "python",
   "name": "pycharm-9a0cdba9"
  },
  "language_info": {
   "codemirror_mode": {
    "name": "ipython",
    "version": 3
   },
   "file_extension": ".py",
   "mimetype": "text/x-python",
   "name": "python",
   "nbconvert_exporter": "python",
   "pygments_lexer": "ipython3",
   "version": "3.8.5"
  }
 },
 "nbformat": 4,
 "nbformat_minor": 2
}
